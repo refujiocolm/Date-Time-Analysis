{
 "cells": [
  {
   "cell_type": "code",
   "execution_count": 14,
   "metadata": {
    "collapsed": false
   },
   "outputs": [
    {
     "name": "stdout",
     "output_type": "stream",
     "text": [
      "[['id', 'title', 'url', 'num_points', 'num_comments', 'author', 'created_at']]\n",
      "n/\n",
      "['12224879', 'Interactive Dynamic Video', 'http://www.interactivedynamicvideo.com/', '386', '52', 'ne0phyte', '8/4/2016 11:52']\n",
      "n/\n",
      "['10975351', 'How to Use Open Source and Shut the Fuck Up at the Same Time', 'http://hueniverse.com/2016/01/26/how-to-use-open-source-and-shut-the-fuck-up-at-the-same-time/', '39', '10', 'josep2', '1/26/2016 19:30']\n",
      "n/\n",
      "['11964716', \"Florida DJs May Face Felony for April Fools' Water Joke\", 'http://www.thewire.com/entertainment/2013/04/florida-djs-april-fools-water-joke/63798/', '2', '1', 'vezycash', '6/23/2016 22:20']\n",
      "n/\n",
      "['11919867', 'Technology ventures: From Idea to Enterprise', 'https://www.amazon.com/Technology-Ventures-Enterprise-Thomas-Byers/dp/0073523429', '3', '1', 'hswarna', '6/17/2016 0:01']\n",
      "n/\n",
      "['10301696', 'Note by Note: The Making of Steinway L1037 (2007)', 'http://www.nytimes.com/2007/11/07/movies/07stein.html?_r=0', '8', '2', 'walterbell', '9/30/2015 4:12']\n",
      "n/\n"
     ]
    }
   ],
   "source": [
    "from csv import reader\n",
    "opened_file = open('hacker_news.csv')\n",
    "hn = reader(opened_file)\n",
    "hn = list(hn)\n",
    "\n",
    "header = hn[:1] #singling out our header hear\n",
    "hn = hn[1:] # making our list without a header here\n",
    "\n",
    "print(header)\n",
    "print('n/')\n",
    "\n",
    "for rows in hn[:5]:\n",
    "    print(rows)\n",
    "    print('n/')\n",
    "  "
   ]
  },
  {
   "cell_type": "code",
   "execution_count": 15,
   "metadata": {
    "collapsed": true
   },
   "outputs": [],
   "source": [
    "ask_posts = []\n",
    "show_posts = []\n",
    "other_posts = []"
   ]
  },
  {
   "cell_type": "code",
   "execution_count": 20,
   "metadata": {
    "collapsed": false
   },
   "outputs": [
    {
     "name": "stdout",
     "output_type": "stream",
     "text": [
      "5233\n",
      "n/\n",
      "3486\n",
      "n/\n",
      "51594\n"
     ]
    }
   ],
   "source": [
    "for rows in hn:\n",
    "    title = rows[1]\n",
    "    title = title.lower()\n",
    "    if title.startswith('ask hn') == True:\n",
    "        ask_posts.append(rows)\n",
    "    elif title.startswith('show hn') == True:\n",
    "        show_posts.append(rows)\n",
    "    else:\n",
    "        other_posts.append(rows)\n",
    "\n",
    "#we print out the list sizes this way to see how mamny of each we are looking at\n",
    "\n",
    "print(len(ask_posts))\n",
    "print('n/')\n",
    "print(len(show_posts))\n",
    "print('n/')\n",
    "print(len(other_posts))\n",
    "    "
   ]
  },
  {
   "cell_type": "code",
   "execution_count": 22,
   "metadata": {
    "collapsed": false
   },
   "outputs": [
    {
     "name": "stdout",
     "output_type": "stream",
     "text": [
      "['12296411', 'Ask HN: How to improve my personal website?', '', '2', '6', 'ahmedbaracat', '8/16/2016 9:55']\n",
      "6\n"
     ]
    }
   ],
   "source": [
    "print(ask_posts[1])\n",
    "example = ask_posts[1]\n",
    "print(example[4])"
   ]
  },
  {
   "cell_type": "code",
   "execution_count": 27,
   "metadata": {
    "collapsed": false
   },
   "outputs": [
    {
     "name": "stdout",
     "output_type": "stream",
     "text": [
      "73455\n",
      "14.03688133002102\n"
     ]
    }
   ],
   "source": [
    "total_ask_comments = 0\n",
    "\n",
    "for rows in ask_posts:\n",
    "    num_comments = rows[4]\n",
    "    num_comments = int(num_comments)\n",
    "    total_ask_comments += num_comments\n",
    "    \n",
    "print(total_ask_comments)\n",
    "avg_ask_comments = total_ask_comments/len(ask_posts)\n",
    "print(avg_ask_comments)\n"
   ]
  },
  {
   "cell_type": "code",
   "execution_count": 28,
   "metadata": {
    "collapsed": false
   },
   "outputs": [
    {
     "name": "stdout",
     "output_type": "stream",
     "text": [
      "35964\n",
      "10.31669535283993\n"
     ]
    }
   ],
   "source": [
    "total_show_comments = 0\n",
    "\n",
    "for rows in show_posts:\n",
    "    num_comments = rows[4]\n",
    "    num_comments = int(num_comments)\n",
    "    total_show_comments += num_comments\n",
    "    \n",
    "print(total_show_comments)\n",
    "avg_show_comments = total_show_comments/len(show_posts)\n",
    "print(avg_show_comments)"
   ]
  },
  {
   "cell_type": "code",
   "execution_count": 29,
   "metadata": {
    "collapsed": true
   },
   "outputs": [],
   "source": [
    "# after computing the avg number of for each category ask posts has more comments\n",
    "# even total comments for each shows a great diffference"
   ]
  },
  {
   "cell_type": "code",
   "execution_count": 31,
   "metadata": {
    "collapsed": true
   },
   "outputs": [],
   "source": [
    "import datetime as dt"
   ]
  },
  {
   "cell_type": "code",
   "execution_count": 46,
   "metadata": {
    "collapsed": false,
    "scrolled": true
   },
   "outputs": [
    {
     "name": "stdout",
     "output_type": "stream",
     "text": [
      "['8/16/2016 9:55', 6]\n"
     ]
    }
   ],
   "source": [
    "# we are working with just the ask_posts list sense it had more comments\n",
    "result_list = []\n",
    "for rows in ask_posts:\n",
    "    row_2 = [rows[6], int(rows[4])]\n",
    "    result_list.append(row_2)\n",
    "    \n",
    "print(result_list[0]) # sample row with both elements in result_list[0]"
   ]
  },
  {
   "cell_type": "code",
   "execution_count": 47,
   "metadata": {
    "collapsed": false
   },
   "outputs": [],
   "source": [
    "counts_by_hour = {}\n",
    "comments_by_hour = {}\n",
    "\n",
    "for rows in result_list:\n",
    "    \n",
    "    w_hour = rows[0]\n",
    "    w_comments = rows[1]\n",
    "    \n",
    "    date_w_hour = dt.datetime.strptime(w_hour, \"%m/%d/%Y %H:%M\")\n",
    "    \n",
    "    #created out datetime object with an hour so we could then take out the hour\n",
    "    \n",
    "    created_time = date_w_hour.strftime(\"%H\")\n",
    "    \n",
    "    #condensing all our data down even more into easier to read formats\n",
    "    \n",
    "    if created_time not in counts_by_hour:\n",
    "        counts_by_hour[created_time] = 1\n",
    "        comments_by_hour[created_time] = w_comments\n",
    "    else:\n",
    "        counts_by_hour[created_time] += 1\n",
    "        comments_by_hour[created_time] += w_comments\n",
    "        \n",
    "        "
   ]
  },
  {
   "cell_type": "code",
   "execution_count": 52,
   "metadata": {
    "collapsed": false,
    "scrolled": true
   },
   "outputs": [
    {
     "data": {
      "text/plain": [
       "[['14', 13.233644859813085],\n",
       " ['21', 16.009174311926607],\n",
       " ['17', 11.46],\n",
       " ['12', 9.41095890410959],\n",
       " ['11', 11.051724137931034],\n",
       " ['05', 10.08695652173913],\n",
       " ['01', 11.383333333333333],\n",
       " ['13', 14.741176470588234],\n",
       " ['20', 21.525],\n",
       " ['02', 23.810344827586206],\n",
       " ['23', 7.985294117647059],\n",
       " ['18', 13.20183486238532],\n",
       " ['22', 6.746478873239437],\n",
       " ['15', 38.5948275862069],\n",
       " ['07', 7.852941176470588],\n",
       " ['09', 5.580882352941177],\n",
       " ['04', 7.170212765957447],\n",
       " ['06', 9.022727272727273],\n",
       " ['08', 10.25],\n",
       " ['19', 10.8],\n",
       " ['00', 8.127272727272727],\n",
       " ['03', 7.796296296296297],\n",
       " ['10', 13.440677966101696],\n",
       " ['16', 16.796296296296298]]"
      ]
     },
     "execution_count": 52,
     "metadata": {},
     "output_type": "execute_result"
    }
   ],
   "source": [
    "avg_by_hour = []\n",
    "\n",
    "for numm in counts_by_hour:\n",
    "    average = comments_by_hour[numm]/counts_by_hour[numm]\n",
    "    avg_by_hour.append([numm, average])\n",
    "avg_by_hour"
   ]
  },
  {
   "cell_type": "code",
   "execution_count": 54,
   "metadata": {
    "collapsed": true
   },
   "outputs": [],
   "source": [
    "# we are using our indexes in the avg_by_hour list to swap them and place them\n",
    "swap_avg_by_hour = []\n",
    "for rows in avg_by_hour:\n",
    "    swap_avg_by_hour.append([rows[1], rows[0]])"
   ]
  },
  {
   "cell_type": "code",
   "execution_count": 58,
   "metadata": {
    "collapsed": true
   },
   "outputs": [],
   "source": [
    "sorted_swap = sorted(swap_avg_by_hour, reverse=True)"
   ]
  },
  {
   "cell_type": "code",
   "execution_count": 59,
   "metadata": {
    "collapsed": false
   },
   "outputs": [
    {
     "name": "stdout",
     "output_type": "stream",
     "text": [
      "[[38.5948275862069, '15'], [23.810344827586206, '02'], [21.525, '20'], [16.796296296296298, '16'], [16.009174311926607, '21'], [14.741176470588234, '13'], [13.440677966101696, '10'], [13.233644859813085, '14'], [13.20183486238532, '18'], [11.46, '17'], [11.383333333333333, '01'], [11.051724137931034, '11'], [10.8, '19'], [10.25, '08'], [10.08695652173913, '05'], [9.41095890410959, '12'], [9.022727272727273, '06'], [8.127272727272727, '00'], [7.985294117647059, '23'], [7.852941176470588, '07'], [7.796296296296297, '03'], [7.170212765957447, '04'], [6.746478873239437, '22'], [5.580882352941177, '09']]\n"
     ]
    }
   ],
   "source": [
    "print(sorted_swap) \n",
    "# our list is descending here after swaping and sorting\n",
    "# we can see that hour 15 has the highest average "
   ]
  },
  {
   "cell_type": "code",
   "execution_count": 57,
   "metadata": {
    "collapsed": false
   },
   "outputs": [
    {
     "name": "stdout",
     "output_type": "stream",
     "text": [
      "Top 5 Hours for Ask Posts Comments\n"
     ]
    }
   ],
   "source": [
    "print(\"Top 5 Hours for Ask Posts Comments\" )"
   ]
  },
  {
   "cell_type": "code",
   "execution_count": 60,
   "metadata": {
    "collapsed": false
   },
   "outputs": [
    {
     "name": "stdout",
     "output_type": "stream",
     "text": [
      "15:00: 38.59 average comments per hour\n",
      "02:00: 23.81 average comments per hour\n",
      "20:00: 21.52 average comments per hour\n",
      "16:00: 16.80 average comments per hour\n",
      "21:00: 16.01 average comments per hour\n"
     ]
    }
   ],
   "source": [
    "for rows in sorted_swap[0:5]:\n",
    "    hour = dt.datetime.strptime(rows[1],\"%H\")\n",
    "    hour = hour.strftime(\"%H:%M\")\n",
    "    result_string = str.format(\"{hour}: {comments:.2f} average comments per hour\", hour = hour, comments = (rows[0]))\n",
    "    print(result_string)"
   ]
  },
  {
   "cell_type": "code",
   "execution_count": null,
   "metadata": {
    "collapsed": true
   },
   "outputs": [],
   "source": [
    "# Our data shows that 3:00 PM eastern time is the best time to post.\n",
    "# 2:00 PM central would be the best time for me to post and then again at 1:00 AM\n",
    "# 8 and 9 PM central are also some good times to posts\n",
    "# this is very interesting because content isnt all that helps with attraction\n",
    "# when you post makes all the difference too. "
   ]
  }
 ],
 "metadata": {
  "kernelspec": {
   "display_name": "Python 3",
   "language": "python",
   "name": "python3"
  },
  "language_info": {
   "codemirror_mode": {
    "name": "ipython",
    "version": 3
   },
   "file_extension": ".py",
   "mimetype": "text/x-python",
   "name": "python",
   "nbconvert_exporter": "python",
   "pygments_lexer": "ipython3",
   "version": "3.4.3"
  }
 },
 "nbformat": 4,
 "nbformat_minor": 2
}
